{
 "cells": [
  {
   "cell_type": "markdown",
   "metadata": {},
   "source": [
    "### Import dependenties"
   ]
  },
  {
   "cell_type": "code",
   "execution_count": 1,
   "metadata": {},
   "outputs": [
    {
     "name": "stdout",
     "output_type": "stream",
     "text": [
      "C:\\Users\\Jonathan\\Documents\\GitHub\\building.py\n"
     ]
    }
   ],
   "source": [
    "import sys\n",
    "from pathlib import Path\n",
    "import sys\n",
    "from PyQt6.QtWidgets import QApplication, QMainWindow, QWidget, QVBoxLayout, QHBoxLayout, QComboBox, QPushButton, QFileDialog, QTextEdit, QLabel\n",
    "from PyQt6.QtGui import QIcon, QPalette, QColor\n",
    "from PyQt6.QtCore import Qt\n",
    "from PyQt6.QtCore import QDateTime\n",
    "\n",
    "notebook_directory = Path().resolve().parent.parent\n",
    "sys.path.append(str(notebook_directory))\n",
    "\n",
    "print(notebook_directory)\n",
    "from bp_single_file import *"
   ]
  },
  {
   "cell_type": "markdown",
   "metadata": {},
   "source": [
    "#### - select in app"
   ]
  },
  {
   "cell_type": "code",
   "execution_count": null,
   "metadata": {},
   "outputs": [],
   "source": [
    "class MainWindow(QMainWindow):\n",
    "    def __init__(self):\n",
    "        super().__init__()\n",
    "        self.setWindowTitle(\"BuildingPy Convert\")\n",
    "        self.setGeometry(100, 100, 800, 400)\n",
    "\n",
    "        self.initUI()\n",
    "\n",
    "    def initUI(self):\n",
    "        # Set a modern gray background color\n",
    "        palette = QPalette()\n",
    "        palette.setColor(QPalette.ColorRole.Window, QColor(45, 45, 45))\n",
    "        palette.setColor(QPalette.ColorRole.WindowText, QColor(240, 240, 240))\n",
    "        palette.setColor(QPalette.ColorRole.Button, QColor(75, 75, 75))\n",
    "        palette.setColor(QPalette.ColorRole.ButtonText, QColor(240, 240, 240))\n",
    "        palette.setColor(QPalette.ColorRole.Highlight, QColor(60, 150, 200))\n",
    "        palette.setColor(QPalette.ColorRole.HighlightedText, QColor(240, 240, 240))\n",
    "        self.setPalette(palette)\n",
    "\n",
    "        # Create a central widget\n",
    "        central_widget = QWidget()\n",
    "        self.setCentralWidget(central_widget)\n",
    "\n",
    "        # Create a vertical layout for the central widget\n",
    "        layout = QVBoxLayout()\n",
    "        central_widget.setLayout(layout)\n",
    "\n",
    "        # Create a horizontal layout for the sections\n",
    "        section_layout = QHBoxLayout()\n",
    "\n",
    "        # Left Section\n",
    "        left_section = QWidget()\n",
    "        left_layout = QVBoxLayout()\n",
    "        left_section.setLayout(left_layout)\n",
    "\n",
    "        left_label = QLabel(\"From:\")\n",
    "        left_layout.addWidget(left_label)\n",
    "\n",
    "        left_dropdown = QComboBox()\n",
    "        left_dropdown.addItems([\"Scia\"])\n",
    "        left_dropdown.setStyleSheet(\"font-size: 16px;\")\n",
    "        left_layout.addWidget(left_dropdown)\n",
    "        left_dropdown.setObjectName(\"left_dropdown\")\n",
    "\n",
    "        section_layout.addWidget(left_section)\n",
    "\n",
    "        # Transfer Icon\n",
    "        transfer_icon = QLabel()\n",
    "        transfer_icon.setPixmap(QIcon(\"transfer.ico\").pixmap(32, 32))\n",
    "        section_layout.addWidget(transfer_icon)\n",
    "\n",
    "        # Right Section\n",
    "        right_section = QWidget()\n",
    "        right_layout = QVBoxLayout()\n",
    "        right_section.setLayout(right_layout)\n",
    "\n",
    "        right_label = QLabel(\"To:\")\n",
    "        right_layout.addWidget(right_label)\n",
    "\n",
    "        right_dropdown = QComboBox()\n",
    "        right_dropdown.addItems([\"Xfem4u\", \"Speckle\"])\n",
    "        right_dropdown.setStyleSheet(\"font-size: 16px;\")\n",
    "        right_layout.addWidget(right_dropdown)\n",
    "\n",
    "        section_layout.addWidget(right_section)\n",
    "\n",
    "        layout.addLayout(section_layout)\n",
    "\n",
    "        # Button to select XML file\n",
    "        convert_button = QPushButton(\"Convert\")\n",
    "        convert_button.clicked.connect(self.test)\n",
    "        convert_button.setStyleSheet(\"font-size: 16px;\")\n",
    "        layout.addWidget(convert_button)\n",
    "\n",
    "        # Output Text Area\n",
    "        self.output_text = QTextEdit()\n",
    "        # Set the background color of the output text area to gray\n",
    "        self.output_text.setStyleSheet(\"background-color: lightgray;\")\n",
    "        layout.addWidget(self.output_text)\n",
    "\n",
    "    def test(self):\n",
    "        print(1)\n",
    "\n",
    "if __name__ == \"__main__\":\n",
    "    app = QApplication(sys.argv)\n",
    "    window = MainWindow()\n",
    "    window.setWindowIcon(QIcon(\"icon.ico\"))\n",
    "    window.show()\n",
    "    sys.exit(app.exec())\n"
   ]
  },
  {
   "cell_type": "code",
   "execution_count": null,
   "metadata": {},
   "outputs": [],
   "source": [
    "class MainWindow(QMainWindow):\n",
    "    def __init__(self):\n",
    "        super().__init__()\n",
    "\n",
    "        self.setWindowTitle(\"Scia2XFEM4U converter\")\n",
    "        button = QPushButton(\"Select XML File\")\n",
    "        button.clicked.connect(self.select_xml_file)\n",
    "        self.setCentralWidget(button)\n",
    "\n",
    "    def select_xml_file(self):\n",
    "        filename, _ = QFileDialog.getOpenFileName(self, \"Select XML File\", filter=\"XML Files (*.xml)\")\n",
    "        if filename:\n",
    "            print(\"Selected XML file:\", filename)\n",
    "        else:\n",
    "            print(\"No XML file selected\")\n",
    "\n",
    "\n",
    "app = QApplication(sys.argv)\n",
    "\n",
    "window = MainWindow()\n",
    "window.show()\n",
    "\n",
    "app.exec()\n",
    "\n",
    "#\n"
   ]
  },
  {
   "cell_type": "markdown",
   "metadata": {},
   "source": [
    "### Convert Scia to XFEM4U"
   ]
  },
  {
   "cell_type": "code",
   "execution_count": 3,
   "metadata": {},
   "outputs": [
    {
     "data": {
      "text/plain": [
       "<bp_single_file.LoadXML at 0x1ca37d15710>"
      ]
     },
     "execution_count": 3,
     "metadata": {},
     "output_type": "execute_result"
    }
   ],
   "source": [
    "#convert data here using the single file\n",
    "\n",
    "#.xml file select from scia and read, convert them to buldingpy objects and then convert them to struct4u xml file.\n",
    "\n",
    "filepath = f\"{notebook_directory}\\\\temp\\\\Scia\\\\Examples buildingpy\\\\_1.xml\"\n",
    "\n",
    "project = BuildingPy(\"TempCommit\", \"0\")\n",
    "\n",
    "LoadXML(filepath, project)\n",
    "# print(project.objects)\n",
    "# project.toSpeckle(\"c6e11e74cb\")"
   ]
  },
  {
   "cell_type": "markdown",
   "metadata": {},
   "source": [
    "### test\n",
    "#### test\n"
   ]
  },
  {
   "cell_type": "markdown",
   "metadata": {},
   "source": [
    "### Write to the .xml (save in documents)"
   ]
  },
  {
   "cell_type": "code",
   "execution_count": 4,
   "metadata": {},
   "outputs": [
    {
     "name": "stdout",
     "output_type": "stream",
     "text": [
      "Custom XML file 'Struct4U_XFEM4U_export_4.xml' has been created in the Documents directory.\n"
     ]
    }
   ],
   "source": [
    "base_file_name = \"Struct4U_XFEM4U_export.xml\"\n",
    "documents_dir = os.path.expanduser(\"~/Documents\")\n",
    "\n",
    "file_name = base_file_name\n",
    "counter = 1\n",
    "\n",
    "while os.path.exists(os.path.join(documents_dir, file_name)):\n",
    "    file_name = f\"Struct4U_XFEM4U_export_{counter}.xml\"\n",
    "    counter += 1\n",
    "\n",
    "path = os.path.join(documents_dir, file_name).replace(\"\\\\\", \"/\")\n",
    "\n",
    "# write to .xml struct4u file\n",
    "xmlS4U = xmlXFEM4U() # Create XML object with standard values\n",
    "xmlS4U.addBeamsPlates(project.objects) #Add Beams, Profiles, Plates, Beamgroups, Nodes\n",
    "xmlS4U.addProject(\"Examples of building.py\")\n",
    "xmlS4U.addPanels(project.objects) #add Load Panels\n",
    "xmlS4U.addSurfaceLoad(project.objects)\n",
    "xmlS4U.addLoadCasesCombinations()\n",
    "xmlS4U.XML()\n",
    "XMLString = xmlS4U.xmlstr\n",
    "\n",
    "file = open(path, \"w\")\n",
    "a = file.write(XMLString)\n",
    "file.close()\n",
    "\n",
    "print(f\"Custom XML file '{file_name}' has been created in the Documents directory.\")"
   ]
  },
  {
   "cell_type": "markdown",
   "metadata": {},
   "source": [
    "### Save the path in the .ini file"
   ]
  },
  {
   "cell_type": "code",
   "execution_count": 5,
   "metadata": {},
   "outputs": [
    {
     "name": "stdout",
     "output_type": "stream",
     "text": [
      ".ini file 'C:\\Users\\Jonathan\\AppData\\Local\\Struct4u\\DirectCommands_XFEM4U.ini' has been updated/created.\n"
     ]
    }
   ],
   "source": [
    "import os\n",
    "import configparser\n",
    "\n",
    "ini_file_path = os.path.join(os.getenv('LOCALAPPDATA'), 'Struct4u', 'DirectCommands_XFEM4U.ini')\n",
    "config = configparser.ConfigParser()\n",
    "\n",
    "config['Struct4u'] = {\n",
    "    'Import_XML': f'{path}'\n",
    "}\n",
    "\n",
    "if os.path.exists(ini_file_path):\n",
    "    with open(ini_file_path, 'w') as config_file:\n",
    "        config.write(config_file)\n",
    "else:\n",
    "    os.makedirs(os.path.dirname(ini_file_path), exist_ok=True)\n",
    "    with open(ini_file_path, 'w') as config_file:\n",
    "        config.write(config_file)\n",
    "\n",
    "print(f\".ini file '{ini_file_path}' has been updated/created.\")"
   ]
  },
  {
   "cell_type": "markdown",
   "metadata": {},
   "source": [
    "### open XFEM4U program"
   ]
  },
  {
   "cell_type": "code",
   "execution_count": 1,
   "metadata": {},
   "outputs": [],
   "source": [
    "import subprocess\n",
    "subprocess.call(\"C:/Struct4u/XFEM4U/wframe3d.exe\", shell=True)"
   ]
  }
 ],
 "metadata": {
  "kernelspec": {
   "display_name": "Python 3",
   "language": "python",
   "name": "python3"
  },
  "language_info": {
   "codemirror_mode": {
    "name": "ipython",
    "version": 3
   },
   "file_extension": ".py",
   "mimetype": "text/x-python",
   "name": "python",
   "nbconvert_exporter": "python",
   "pygments_lexer": "ipython3",
   "version": "3.11.5"
  }
 },
 "nbformat": 4,
 "nbformat_minor": 2
}
