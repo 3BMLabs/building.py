{
 "cells": [
  {
   "cell_type": "code",
   "execution_count": 37,
   "metadata": {},
   "outputs": [],
   "source": [
    "import ifcopenshell\n",
    "from ifcopenshell.api import run"
   ]
  },
  {
   "cell_type": "code",
   "execution_count": 38,
   "metadata": {},
   "outputs": [
    {
     "data": {
      "text/plain": [
       "#17=IfcRelAggregates('0R9QzyZHfCauZjGNZsbCvL',$,$,$,#13,(#14))"
      ]
     },
     "execution_count": 38,
     "metadata": {},
     "output_type": "execute_result"
    }
   ],
   "source": [
    "model = ifcopenshell.file()\n",
    "\n",
    "project = run(\"root.create_entity\", model, ifc_class=\"IfcProject\", name=\"My Project\")\n",
    "\n",
    "run(\"unit.assign_unit\", model)\n",
    "\n",
    "context = run(\"context.add_context\", model, context_type=\"Model\")\n",
    "\n",
    "body = run(\"context.add_context\", model, context_type=\"Model\",\n",
    "    context_identifier=\"Body\", target_view=\"MODEL_VIEW\", parent=context)\n",
    "\n",
    "site = run(\"root.create_entity\", model, ifc_class=\"IfcSite\", name=\"My Site\")\n",
    "building = run(\"root.create_entity\", model, ifc_class=\"IfcBuilding\", name=\"Building A\")\n",
    "storey = run(\"root.create_entity\", model, ifc_class=\"IfcBuildingStorey\", name=\"Ground Floor\")\n",
    "\n",
    "run(\"aggregate.assign_object\", model, relating_object=project, product=site)\n",
    "run(\"aggregate.assign_object\", model, relating_object=site, product=building)\n",
    "run(\"aggregate.assign_object\", model, relating_object=building, product=storey)"
   ]
  },
  {
   "cell_type": "code",
   "execution_count": 41,
   "metadata": {},
   "outputs": [
    {
     "name": "stdout",
     "output_type": "stream",
     "text": [
      "#56=IfcShapeRepresentation(#11,'Body','SweptSolid',(#55))\n"
     ]
    },
    {
     "data": {
      "text/plain": [
       "(#35=IfcRelContainedInSpatialStructure('0WzRveoyX7ifUwAAtDh$yW',$,$,$,(#18,#41),#14),)"
      ]
     },
     "execution_count": 41,
     "metadata": {},
     "output_type": "execute_result"
    }
   ],
   "source": [
    "wall = run(\"root.create_entity\", model, ifc_class=\"IfcWall\")\n",
    "\n",
    "run(\"geometry.edit_object_placement\", model, product=wall)\n",
    "\n",
    "representation = run(\"geometry.add_wall_representation\", model, context=body, length=5, height=3, thickness=0.2)\n",
    "print(representation)\n",
    "run(\"geometry.assign_representation\", model, product=wall, representation=representation)\n",
    "\n",
    "run(\"spatial.assign_container\", model, relating_structure=storey, product=wall)"
   ]
  },
  {
   "cell_type": "code",
   "execution_count": 42,
   "metadata": {},
   "outputs": [],
   "source": [
    "model.write(\"models/model.ifc\")"
   ]
  }
 ],
 "metadata": {
  "kernelspec": {
   "display_name": "Python 3",
   "language": "python",
   "name": "python3"
  },
  "language_info": {
   "codemirror_mode": {
    "name": "ipython",
    "version": 3
   },
   "file_extension": ".py",
   "mimetype": "text/x-python",
   "name": "python",
   "nbconvert_exporter": "python",
   "pygments_lexer": "ipython3",
   "version": "3.11.5"
  }
 },
 "nbformat": 4,
 "nbformat_minor": 2
}
