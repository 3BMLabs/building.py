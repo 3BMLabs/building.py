{
 "cells": [
  {
   "cell_type": "code",
   "execution_count": 22,
   "metadata": {},
   "outputs": [
    {
     "name": "stdout",
     "output_type": "stream",
     "text": [
      "c:\\Users\\Jonathan\\Documents\\GitHub\n"
     ]
    }
   ],
   "source": [
    "import sys, os\n",
    "from pathlib import Path\n",
    "import specklepy\n",
    "\n",
    "current_dir = Path(os.getcwd())\n",
    "desired_path = current_dir.parents[2]\n",
    "\n",
    "sys.path.append(str(desired_path))\n",
    "\n",
    "from geometry.point import *\n",
    "# from geometry.curve import Line, PolyCurve\n",
    "# from bp_single_file import *\n",
    "# from exchange.speckle import *\n",
    "# from project.fileformat import BuildingPy\n"
   ]
  },
  {
   "cell_type": "code",
   "execution_count": null,
   "metadata": {},
   "outputs": [],
   "source": [
    "import ifcopenshell\n",
    "import ifcopenshell.geom\n",
    "import ifcopenshell.util.element\n",
    "import ifcopenshell.util.shape\n",
    "\n",
    "model = ifcopenshell.open('C:/Users/Jonathan/Documents/GitHub/building.py/sandbox/IFC/models/SingleRoom.ifc')"
   ]
  },
  {
   "cell_type": "code",
   "execution_count": null,
   "metadata": {},
   "outputs": [],
   "source": [
    "rooms = model.by_type(\"IfcSpace\")\n",
    "print(rooms)"
   ]
  },
  {
   "cell_type": "code",
   "execution_count": null,
   "metadata": {},
   "outputs": [],
   "source": [
    "project = BuildingPy(\"TempCommit\", \"0\")"
   ]
  },
  {
   "cell_type": "code",
   "execution_count": null,
   "metadata": {},
   "outputs": [],
   "source": [
    "if rooms:\n",
    "    room = rooms[0]\n",
    "    shape_representation = room.Representation\n",
    "\n",
    "    all_points = []\n",
    "    for representation in shape_representation.Representations:\n",
    "        for item in representation.Items:\n",
    "            print(item)\n",
    "            if item.is_a(\"IfcExtrudedAreaSolid\"):\n",
    "                profile = item.SweptArea\n",
    "                if profile.is_a(\"IfcArbitraryClosedProfileDef\"):\n",
    "                    outer_curve = profile.OuterCurve\n",
    "                    if outer_curve.is_a(\"IfcPolyline\"):\n",
    "                        for point in outer_curve.Points:\n",
    "                            all_points.append(Point(point.Coordinates[0], point.Coordinates[1], 0))\n",
    "\n",
    "                direction = item.ExtrudedDirection\n",
    "                depth = item.Depth\n",
    "                dx, dy, dz = direction.DirectionRatios if len(direction.DirectionRatios) == 3 else (*direction.DirectionRatios, 0)\n",
    "                extrusion_point = (dx * depth, dy * depth, dz * depth)\n",
    "                all_points.append(extrusion_point)\n",
    "\n",
    "            elif item.is_a(\"IfcFacetedBrep\"):\n",
    "                for shell in item.Outer.CfsFaces:\n",
    "                    for loop in shell.Bounds:\n",
    "                        for vertex in loop.Bound.Polygon:\n",
    "                            coord = vertex.Coordinates\n",
    "                            pt = Point(coord[0], coord[1], coord[2])\n",
    "                            project.objects.append(pt)\n",
    "                            all_points.append(pt)\n",
    "\n",
    "    print(\"Alle punten:\", all_points)\n",
    "else:\n",
    "    print(\"Er zijn geen ruimtes in het model.\")\n"
   ]
  },
  {
   "cell_type": "code",
   "execution_count": null,
   "metadata": {},
   "outputs": [],
   "source": [
    "project.objects = all_points\n",
    "print(project.objects)"
   ]
  },
  {
   "cell_type": "code",
   "execution_count": 10,
   "metadata": {},
   "outputs": [
    {
     "ename": "NameError",
     "evalue": "name 'translateObjectsToSpeckleObjects' is not defined",
     "output_type": "error",
     "traceback": [
      "\u001b[1;31m---------------------------------------------------------------------------\u001b[0m",
      "\u001b[1;31mNameError\u001b[0m                                 Traceback (most recent call last)",
      "Cell \u001b[1;32mIn[10], line 1\u001b[0m\n\u001b[1;32m----> 1\u001b[0m \u001b[43mproject\u001b[49m\u001b[38;5;241;43m.\u001b[39;49m\u001b[43mtoSpeckle\u001b[49m\u001b[43m(\u001b[49m\u001b[38;5;124;43m\"\u001b[39;49m\u001b[38;5;124;43m6d9555e57f\u001b[39;49m\u001b[38;5;124;43m\"\u001b[39;49m\u001b[43m)\u001b[49m\n",
      "File \u001b[1;32mc:\\Users\\Jonathan\\Documents\\GitHub\\building.py\\bp_single_file.py:736\u001b[0m, in \u001b[0;36mBuildingPy.toSpeckle\u001b[1;34m(self, streamid, commitstring)\u001b[0m\n\u001b[0;32m    734\u001b[0m \u001b[38;5;28;01mdef\u001b[39;00m \u001b[38;5;21mtoSpeckle\u001b[39m(\u001b[38;5;28mself\u001b[39m, streamid, commitstring\u001b[38;5;241m=\u001b[39m\u001b[38;5;28;01mNone\u001b[39;00m):\n\u001b[0;32m    735\u001b[0m     \u001b[38;5;28mself\u001b[39m\u001b[38;5;241m.\u001b[39mspecklestream \u001b[38;5;241m=\u001b[39m streamid\n\u001b[1;32m--> 736\u001b[0m     speckleobj \u001b[38;5;241m=\u001b[39m \u001b[43mtranslateObjectsToSpeckleObjects\u001b[49m(\u001b[38;5;28mself\u001b[39m\u001b[38;5;241m.\u001b[39mobjects)\n\u001b[0;32m    737\u001b[0m     TransportToSpeckle(\u001b[38;5;28mself\u001b[39m\u001b[38;5;241m.\u001b[39mspeckleserver,streamid,speckleobj,commitstring)\n",
      "\u001b[1;31mNameError\u001b[0m: name 'translateObjectsToSpeckleObjects' is not defined"
     ]
    }
   ],
   "source": [
    "project.toSpeckle(\"6d9555e57f\")"
   ]
  }
 ],
 "metadata": {
  "kernelspec": {
   "display_name": "Python 3",
   "language": "python",
   "name": "python3"
  },
  "language_info": {
   "codemirror_mode": {
    "name": "ipython",
    "version": 3
   },
   "file_extension": ".py",
   "mimetype": "text/x-python",
   "name": "python",
   "nbconvert_exporter": "python",
   "pygments_lexer": "ipython3",
   "version": "3.11.5"
  }
 },
 "nbformat": 4,
 "nbformat_minor": 2
}
